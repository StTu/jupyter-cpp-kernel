{
 "cells": [
  {
   "cell_type": "markdown",
   "metadata": {},
   "source": [
    "# Valid code"
   ]
  },
  {
   "cell_type": "code",
   "execution_count": 1,
   "metadata": {},
   "outputs": [
    {
     "name": "stderr",
     "output_type": "stream",
     "text": []
    },
    {
     "name": "stdout",
     "output_type": "stream",
     "text": [
      "Hello world\n"
     ]
    }
   ],
   "source": [
    "#include <iostream>\n",
    "\n",
    "int main() {\n",
    "    std::cout << \"Hello World\" << std::endl;\n",
    "}"
   ]
  },
  {
   "cell_type": "markdown",
   "metadata": {},
   "source": [
    "But the kernel will also display compilations warnings and errors if we have some. Let's try to remove the `#include <stdio.h>` statement, which if necessary for `printf` to work."
   ]
  },
  {
   "cell_type": "markdown",
   "metadata": {},
   "source": [
    "# Code generating warnings during compilation"
   ]
  },
  {
   "cell_type": "code",
   "execution_count": 1,
   "metadata": {},
   "outputs": [
    {
     "name": "stderr",
     "output_type": "stream",
     "text": [
      "/var/folders/4j/xg6vmdqs44z51nqdy93ncv_h0000gn/T/tmpe1l4bs44.cpp:2:5: error: use of undeclared identifier 'std'\n",
      "    std::cout << \"Hello World\" << std::endl;\n",
      "    ^\n",
      "/var/folders/4j/xg6vmdqs44z51nqdy93ncv_h0000gn/T/tmpe1l4bs44.cpp:2:35: error: use of undeclared identifier 'std'\n",
      "    std::cout << \"Hello World\" << std::endl;\n",
      "                                  ^\n",
      "2 errors generated.\n",
      "[C++ kernel] G++ exited with code 1, the executable will not be executed"
     ]
    }
   ],
   "source": [
    "int main() {\n",
    "    std::cout << \"Hello World\" << std::endl;\n",
    "}"
   ]
  },
  {
   "cell_type": "markdown",
   "metadata": {},
   "source": [
    "You can see that the warning are displayed, but the code is still executed."
   ]
  },
  {
   "cell_type": "markdown",
   "metadata": {},
   "source": [
    "# Code generating errors during compilation"
   ]
  },
  {
   "cell_type": "code",
   "execution_count": 3,
   "metadata": {},
   "outputs": [
    {
     "name": "stderr",
     "output_type": "stream",
     "text": [
      "/var/folders/4j/xg6vmdqs44z51nqdy93ncv_h0000gn/T/tmp_4ndv6ez.cpp:4:44: error: expected ';' after expression\n",
      "    std::cout << \"Hello World\" << std::endl\n",
      "                                           ^\n",
      "                                           ;\n",
      "1 error generated.\n",
      "[C++ kernel] G++ exited with code 1, the executable will not be executed"
     ]
    }
   ],
   "source": [
    "#include <iostream>\n",
    "\n",
    "int main() {\n",
    "    std::cout << \"Hello World\" << std::endl\n",
    "}"
   ]
  },
  {
   "cell_type": "markdown",
   "metadata": {},
   "source": [
    "You can see that the errors and warnings are shown, but the code is not executed. The retcode is also added to the end of `stderr`"
   ]
  }
 ],
 "metadata": {
  "kernelspec": {
   "display_name": "Cpp",
   "language": "cpp",
   "name": "cpp"
  },
  "language_info": {
   "file_extension": ".cpp",
   "mimetype": "text/plain",
   "name": "c"
  }
 },
 "nbformat": 4,
 "nbformat_minor": 1
}
